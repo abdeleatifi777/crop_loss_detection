{
 "cells": [
  {
   "cell_type": "markdown",
   "source": [
    "# Make predictions for plotting the map"
   ],
   "metadata": {}
  },
  {
   "cell_type": "code",
   "execution_count": 1,
   "source": [
    "import numpy as np\n",
    "import pandas as pd\n",
    "import config as cfg\n",
    "import utils_ml as mut\n",
    "from sklearn.metrics import roc_curve\n",
    "data_path = cfg.data_path + cfg.ml_ready_ndvi_data\n",
    "\n",
    "\n",
    "year = 2008\n",
    "# load data for training and testing the model\n",
    "x, y, ids = mut.load_ndvi_as_numpy(data_path, mut.as_list(year), balance_flag=0)\n",
    "\n",
    "# split into test (1000 examples) and train (remaining) \n",
    "xtr, ytr, idstr, xte, yte, idste  = mut.split_for_map(x,y,ids, 99)\n",
    "\n",
    "# train model\n",
    "clf = mut.build_model_opt(\"rf\", random_state=99)\n",
    "clf_trained = clf.fit(xtr, ytr)\n",
    "# make prediction\n",
    "proba = clf_trained.predict_proba(xte)\n",
    "\n",
    "# compute optimal threshold (# Youden's J statistic)\n",
    "fpr, tpr, thr = roc_curve(yte, proba[:, 1])\n",
    "jstat = tpr - fpr # Youden's J statistic\n",
    "opt_thr = thr[np.argmax(jstat)]\n",
    "print(f'opt thr: {opt_thr}')\n",
    "\n",
    "# predict test examples\n",
    "yhatte = proba[:, 1] > opt_thr\n",
    "predicted_loss_ids = idste[yhatte]\n",
    "predicted_noloss_ids = idste[~yhatte]"
   ],
   "outputs": [
    {
     "output_type": "stream",
     "name": "stdout",
     "text": [
      "opt thr: 0.4489324564574025\n"
     ]
    }
   ],
   "metadata": {}
  },
  {
   "cell_type": "markdown",
   "source": [
    "## Create true and predicted dataframes from true and predicted IDs"
   ],
   "metadata": {}
  },
  {
   "cell_type": "code",
   "execution_count": 3,
   "source": [
    "# load the test data in dataframe format\n",
    "df = mut.load_ndvi_as_df(data_path, year)\n",
    "dfte = df.loc[df.new_ID.isin(idste)]\n",
    "print(f\"true test data shape: {dfte.shape}\")\n",
    "\n",
    "# sort ground truth by new_ID and save\n",
    "df_true = dfte.copy()\n",
    "df_true.sort_values(by='new_ID')\n",
    "df_true.to_csv(\"ground_truth.csv\", index=False)"
   ],
   "outputs": [
    {
     "output_type": "stream",
     "name": "stdout",
     "text": [
      "true test data shape: (1000, 22)\n"
     ]
    }
   ],
   "metadata": {}
  },
  {
   "cell_type": "code",
   "execution_count": null,
   "source": [
    "# predicted dataframe\n",
    "\n",
    "# extract fields which are predicted as loss\n",
    "df_predicted_loss = dfte.loc[dfte.new_ID.isin(predicted_loss_ids)]\n",
    "df_predicted_loss.loss.replace(0, 1, inplace=True) # change orig label to predicted label\n",
    "\n",
    "# extract fields which are predicted as no-loss\n",
    "df_predicted_noloss = dfte.loc[dfte.new_ID.isin(predicted_noloss_ids)]\n",
    "df_predicted_noloss.loss.replace(1, 0, inplace=True) # change orig label to predicted label\n",
    "\n",
    "# concat the two and save\n",
    "df_predicted = pd.concat([df_predicted_loss, \n",
    "                          df_predicted_noloss], \n",
    "                          ignore_index=True)\n",
    "print(f\"true test data shape: {df_predicted.shape}\")\n",
    "df_predicted.sort_values(by='new_ID')\n",
    "df_predicted.to_csv(\"predicted.csv\", index=False)"
   ],
   "outputs": [],
   "metadata": {}
  }
 ],
 "metadata": {
  "kernelspec": {
   "name": "python3",
   "display_name": "Python 3.7.4 64-bit ('clid': conda)"
  },
  "language_info": {
   "codemirror_mode": {
    "name": "ipython",
    "version": 3
   },
   "file_extension": ".py",
   "mimetype": "text/x-python",
   "name": "python",
   "nbconvert_exporter": "python",
   "pygments_lexer": "ipython3",
   "version": "3.7.4"
  },
  "interpreter": {
   "hash": "acffdbbb64dd1ebfbae78ee5992d3147b5971034d710f9e6b85a45ee01bb0fd4"
  }
 },
 "nbformat": 4,
 "nbformat_minor": 4
}